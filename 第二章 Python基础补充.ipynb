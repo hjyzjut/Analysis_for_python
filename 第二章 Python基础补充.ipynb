{
 "cells": [
  {
   "cell_type": "markdown",
   "metadata": {},
   "source": [
    "# 第二章 Python基础补充"
   ]
  },
  {
   "cell_type": "markdown",
   "metadata": {},
   "source": [
    "## 2.3.1.6 isinstance检查对象的类型"
   ]
  },
  {
   "cell_type": "code",
   "execution_count": 11,
   "metadata": {},
   "outputs": [],
   "source": [
    "a=5;b=4.5"
   ]
  },
  {
   "cell_type": "code",
   "execution_count": 12,
   "metadata": {},
   "outputs": [
    {
     "data": {
      "text/plain": [
       "True"
      ]
     },
     "execution_count": 12,
     "metadata": {},
     "output_type": "execute_result"
    }
   ],
   "source": [
    "isinstance(a, int)"
   ]
  },
  {
   "cell_type": "code",
   "execution_count": 13,
   "metadata": {},
   "outputs": [
    {
     "data": {
      "text/plain": [
       "True"
      ]
     },
     "execution_count": 13,
     "metadata": {},
     "output_type": "execute_result"
    }
   ],
   "source": [
    "isinstance(b,float)"
   ]
  },
  {
   "cell_type": "markdown",
   "metadata": {},
   "source": [
    "## 2.3.1.8 验证是否可迭代"
   ]
  },
  {
   "cell_type": "code",
   "execution_count": 1,
   "metadata": {},
   "outputs": [],
   "source": [
    "def isiterable(obj):\n",
    "    try:\n",
    "        iter(obj)\n",
    "        return True\n",
    "    except TypeError: ## 类型错误，不可遍历\n",
    "        return False"
   ]
  },
  {
   "cell_type": "code",
   "execution_count": 2,
   "metadata": {},
   "outputs": [
    {
     "data": {
      "text/plain": [
       "True"
      ]
     },
     "execution_count": 2,
     "metadata": {},
     "output_type": "execute_result"
    }
   ],
   "source": [
    "isiterable('a string')"
   ]
  },
  {
   "cell_type": "code",
   "execution_count": 3,
   "metadata": {},
   "outputs": [
    {
     "data": {
      "text/plain": [
       "True"
      ]
     },
     "execution_count": 3,
     "metadata": {},
     "output_type": "execute_result"
    }
   ],
   "source": [
    "isiterable([1, 2, 3])"
   ]
  },
  {
   "cell_type": "code",
   "execution_count": 4,
   "metadata": {},
   "outputs": [
    {
     "data": {
      "text/plain": [
       "False"
      ]
     },
     "execution_count": 4,
     "metadata": {},
     "output_type": "execute_result"
    }
   ],
   "source": [
    "isiterable(5)"
   ]
  },
  {
   "cell_type": "markdown",
   "metadata": {},
   "source": [
    "## 2.3.2.1 数值类型\n",
    "整型和浮点型\n",
    "\n",
    "整型可以储存任意大小的数字"
   ]
  },
  {
   "cell_type": "code",
   "execution_count": 5,
   "metadata": {},
   "outputs": [
    {
     "data": {
      "text/plain": [
       "14773126520894576247394034909454218428871028979977065385182498046976"
      ]
     },
     "execution_count": 5,
     "metadata": {},
     "output_type": "execute_result"
    }
   ],
   "source": [
    "ival = 5211314\n",
    "ival**10"
   ]
  },
  {
   "cell_type": "code",
   "execution_count": 7,
   "metadata": {},
   "outputs": [
    {
     "data": {
      "text/plain": [
       "3.1415926"
      ]
     },
     "execution_count": 7,
     "metadata": {},
     "output_type": "execute_result"
    }
   ],
   "source": [
    "faval = 3.1415926\n",
    "faval"
   ]
  },
  {
   "cell_type": "code",
   "execution_count": 8,
   "metadata": {},
   "outputs": [
    {
     "data": {
      "text/plain": [
       "1.1234567"
      ]
     },
     "execution_count": 8,
     "metadata": {},
     "output_type": "execute_result"
    }
   ],
   "source": [
    "faval = 12345.67e-5\n",
    "faval+1"
   ]
  },
  {
   "cell_type": "markdown",
   "metadata": {},
   "source": [
    "e-7,就是十的负七次方\n",
    "\n",
    "整数除法，自动转型为浮点数"
   ]
  },
  {
   "cell_type": "code",
   "execution_count": 9,
   "metadata": {},
   "outputs": [
    {
     "data": {
      "text/plain": [
       "1.5"
      ]
     },
     "execution_count": 9,
     "metadata": {},
     "output_type": "execute_result"
    }
   ],
   "source": [
    "3 / 2"
   ]
  },
  {
   "cell_type": "code",
   "execution_count": 10,
   "metadata": {},
   "outputs": [
    {
     "data": {
      "text/plain": [
       "1"
      ]
     },
     "execution_count": 10,
     "metadata": {},
     "output_type": "execute_result"
    }
   ],
   "source": [
    "3//2"
   ]
  },
  {
   "cell_type": "markdown",
   "metadata": {},
   "source": [
    "## 2.3.2.2 字符串\n",
    "多行字符串，用三引号"
   ]
  },
  {
   "cell_type": "code",
   "execution_count": 16,
   "metadata": {},
   "outputs": [
    {
     "data": {
      "text/plain": [
       "'\\n一顿火锅\\n两串烧烤\\n三杯阔落\\n四盆龙虾\\n五香花生\\n六味猪蹄\\n七斤荔枝\\n八个榴莲\\n九足饭饱\\n食不我待，得抓紧\\n'"
      ]
     },
     "execution_count": 16,
     "metadata": {},
     "output_type": "execute_result"
    }
   ],
   "source": [
    "c = \"\"\"\n",
    "一顿火锅\n",
    "两串烧烤\n",
    "三杯阔落\n",
    "四盆龙虾\n",
    "五香花生\n",
    "六味猪蹄\n",
    "七斤荔枝\n",
    "八个榴莲\n",
    "九足饭饱\n",
    "食不我待，得抓紧\n",
    "\"\"\"\n",
    "c"
   ]
  },
  {
   "cell_type": "code",
   "execution_count": 14,
   "metadata": {},
   "outputs": [
    {
     "data": {
      "text/plain": [
       "11"
      ]
     },
     "execution_count": 14,
     "metadata": {},
     "output_type": "execute_result"
    }
   ],
   "source": [
    "c.count('\\n')"
   ]
  },
  {
   "cell_type": "markdown",
   "metadata": {},
   "source": [
    "### 字节与Unicode\n",
    "\n",
    "字符串，字节与Unicode的转换"
   ]
  },
  {
   "cell_type": "code",
   "execution_count": 17,
   "metadata": {},
   "outputs": [
    {
     "data": {
      "text/plain": [
       "'Joyeux Noël'"
      ]
     },
     "execution_count": 17,
     "metadata": {},
     "output_type": "execute_result"
    }
   ],
   "source": [
    "val = 'Joyeux Noël'\n",
    "val"
   ]
  },
  {
   "cell_type": "code",
   "execution_count": 18,
   "metadata": {},
   "outputs": [
    {
     "data": {
      "text/plain": [
       "b'Joyeux No\\xc3\\xabl'"
      ]
     },
     "execution_count": 18,
     "metadata": {},
     "output_type": "execute_result"
    }
   ],
   "source": [
    "val_utf8 = val.encode('utf-8')\n",
    "val_utf8"
   ]
  },
  {
   "cell_type": "code",
   "execution_count": 19,
   "metadata": {},
   "outputs": [
    {
     "data": {
      "text/plain": [
       "'\\n茕茕孑立\\n沆瀣一气\\n踽踽(jǔ)独行\\n醍醐灌顶\\n绵绵瓜瓞(dié)\\n奉为圭(guī)臬(niè)\\n龙行龘龘(dá)\\n犄(jī)角旮(gā)旯(lá)\\n'"
      ]
     },
     "execution_count": 19,
     "metadata": {},
     "output_type": "execute_result"
    }
   ],
   "source": [
    "val = '''\n",
    "茕茕孑立\n",
    "沆瀣一气\n",
    "踽踽(jǔ)独行\n",
    "醍醐灌顶\n",
    "绵绵瓜瓞(dié)\n",
    "奉为圭(guī)臬(niè)\n",
    "龙行龘龘(dá)\n",
    "犄(jī)角旮(gā)旯(lá)\n",
    "'''\n",
    "val"
   ]
  },
  {
   "cell_type": "code",
   "execution_count": 20,
   "metadata": {},
   "outputs": [
    {
     "data": {
      "text/plain": [
       "b'\\n\\xe8\\x8c\\x95\\xe8\\x8c\\x95\\xe5\\xad\\x91\\xe7\\xab\\x8b\\n\\xe6\\xb2\\x86\\xe7\\x80\\xa3\\xe4\\xb8\\x80\\xe6\\xb0\\x94\\n\\xe8\\xb8\\xbd\\xe8\\xb8\\xbd(j\\xc7\\x94)\\xe7\\x8b\\xac\\xe8\\xa1\\x8c\\n\\xe9\\x86\\x8d\\xe9\\x86\\x90\\xe7\\x81\\x8c\\xe9\\xa1\\xb6\\n\\xe7\\xbb\\xb5\\xe7\\xbb\\xb5\\xe7\\x93\\x9c\\xe7\\x93\\x9e(di\\xc3\\xa9)\\n\\xe5\\xa5\\x89\\xe4\\xb8\\xba\\xe5\\x9c\\xad(gu\\xc4\\xab)\\xe8\\x87\\xac(ni\\xc3\\xa8)\\n\\xe9\\xbe\\x99\\xe8\\xa1\\x8c\\xe9\\xbe\\x98\\xe9\\xbe\\x98(d\\xc3\\xa1)\\n\\xe7\\x8a\\x84(j\\xc4\\xab)\\xe8\\xa7\\x92\\xe6\\x97\\xae(g\\xc4\\x81)\\xe6\\x97\\xaf(l\\xc3\\xa1)\\n'"
      ]
     },
     "execution_count": 20,
     "metadata": {},
     "output_type": "execute_result"
    }
   ],
   "source": [
    "val_utf8 = val.encode('utf-8')\n",
    "val_utf8"
   ]
  },
  {
   "cell_type": "code",
   "execution_count": 21,
   "metadata": {},
   "outputs": [
    {
     "data": {
      "text/plain": [
       "bytes"
      ]
     },
     "execution_count": 21,
     "metadata": {},
     "output_type": "execute_result"
    }
   ],
   "source": [
    "type(val_utf8)"
   ]
  },
  {
   "cell_type": "code",
   "execution_count": 22,
   "metadata": {},
   "outputs": [
    {
     "data": {
      "text/plain": [
       "str"
      ]
     },
     "execution_count": 22,
     "metadata": {},
     "output_type": "execute_result"
    }
   ],
   "source": [
    "type(val)"
   ]
  },
  {
   "cell_type": "markdown",
   "metadata": {},
   "source": [
    "### 类型\n",
    "\n",
    "decode，对Unicode解码"
   ]
  },
  {
   "cell_type": "code",
   "execution_count": 23,
   "metadata": {},
   "outputs": [
    {
     "data": {
      "text/plain": [
       "'\\n茕茕孑立\\n沆瀣一气\\n踽踽(jǔ)独行\\n醍醐灌顶\\n绵绵瓜瓞(dié)\\n奉为圭(guī)臬(niè)\\n龙行龘龘(dá)\\n犄(jī)角旮(gā)旯(lá)\\n'"
      ]
     },
     "execution_count": 23,
     "metadata": {},
     "output_type": "execute_result"
    }
   ],
   "source": [
    "val_utf8.decode('utf-8')"
   ]
  },
  {
   "cell_type": "markdown",
   "metadata": {},
   "source": [
    "## 2.3.2.7 日期和时间\n",
    "做数据，时间是一个非常重要的因素"
   ]
  },
  {
   "cell_type": "code",
   "execution_count": 26,
   "metadata": {},
   "outputs": [
    {
     "data": {
      "text/plain": [
       "29"
      ]
     },
     "execution_count": 26,
     "metadata": {},
     "output_type": "execute_result"
    }
   ],
   "source": [
    "from datetime import datetime, date, time\n",
    "dt = datetime(2011, 10, 29, 20, 30, 21)\n",
    "dt.day"
   ]
  },
  {
   "cell_type": "code",
   "execution_count": 27,
   "metadata": {},
   "outputs": [
    {
     "data": {
      "text/plain": [
       "30"
      ]
     },
     "execution_count": 27,
     "metadata": {},
     "output_type": "execute_result"
    }
   ],
   "source": [
    "dt.minute"
   ]
  },
  {
   "cell_type": "code",
   "execution_count": 28,
   "metadata": {},
   "outputs": [
    {
     "data": {
      "text/plain": [
       "datetime.date(2011, 10, 29)"
      ]
     },
     "execution_count": 28,
     "metadata": {},
     "output_type": "execute_result"
    }
   ],
   "source": [
    "dt.date()"
   ]
  },
  {
   "cell_type": "code",
   "execution_count": 29,
   "metadata": {},
   "outputs": [
    {
     "data": {
      "text/plain": [
       "datetime.time(20, 30, 21)"
      ]
     },
     "execution_count": 29,
     "metadata": {},
     "output_type": "execute_result"
    }
   ],
   "source": [
    "dt.time()"
   ]
  },
  {
   "cell_type": "code",
   "execution_count": 30,
   "metadata": {},
   "outputs": [
    {
     "data": {
      "text/plain": [
       "'10/29/2011 20:30'"
      ]
     },
     "execution_count": 30,
     "metadata": {},
     "output_type": "execute_result"
    }
   ],
   "source": [
    "dt.strftime('%m/%d/%Y %H:%M')"
   ]
  },
  {
   "cell_type": "code",
   "execution_count": 33,
   "metadata": {},
   "outputs": [
    {
     "data": {
      "text/plain": [
       "datetime.datetime(2009, 10, 31, 0, 0)"
      ]
     },
     "execution_count": 33,
     "metadata": {},
     "output_type": "execute_result"
    }
   ],
   "source": [
    "datetime.strptime('20091031','%Y%m%d') ## 字符串转换为datetime对象"
   ]
  },
  {
   "cell_type": "markdown",
   "metadata": {},
   "source": [
    "### 替换时间中的一些值，这个经常会用到"
   ]
  },
  {
   "cell_type": "code",
   "execution_count": 34,
   "metadata": {},
   "outputs": [
    {
     "data": {
      "text/plain": [
       "datetime.datetime(2011, 10, 29, 20, 0)"
      ]
     },
     "execution_count": 34,
     "metadata": {},
     "output_type": "execute_result"
    }
   ],
   "source": [
    "dt.replace(minute=0, second=0)"
   ]
  },
  {
   "cell_type": "code",
   "execution_count": 35,
   "metadata": {},
   "outputs": [
    {
     "data": {
      "text/plain": [
       "datetime.timedelta(1856, 80187)"
      ]
     },
     "execution_count": 35,
     "metadata": {},
     "output_type": "execute_result"
    }
   ],
   "source": [
    "# 如果想算两个时间点之间隔了多长时间怎么办\n",
    "dt1 = datetime(2019, 5, 8, 10, 12, 30)\n",
    "dt2 = datetime(2024, 6, 7, 8, 28, 57)\n",
    "delta = dt2 - dt1\n",
    "delta "
   ]
  },
  {
   "cell_type": "code",
   "execution_count": 36,
   "metadata": {},
   "outputs": [
    {
     "data": {
      "text/plain": [
       "datetime.datetime(2029, 7, 8, 6, 45, 24)"
      ]
     },
     "execution_count": 36,
     "metadata": {},
     "output_type": "execute_result"
    }
   ],
   "source": [
    "dt2 + delta"
   ]
  },
  {
   "cell_type": "markdown",
   "metadata": {},
   "source": [
    "Datetime格式化的详细说明(ISO C89兼容)\n",
    "\n",
    "%Y 四位年份\n",
    "\n",
    "%y 两位年份\n",
    "\n",
    "%m 两位的月份 [01,12]\n",
    "\n",
    "%d 两位的天数 [01,31]\n",
    "\n",
    "%H 24小时制 [00, 23]\n",
    "\n",
    "%I 12小时制 [01,12]\n",
    "\n",
    "%M 两位分钟 [00,59]\n",
    "\n",
    "%S 秒值 [00,61] 60、61用于区分闰秒？？还有闰秒？\n",
    "\n",
    "%w 星期值 [0, 6] 0星期天\n",
    "\n",
    "%U 一年中第几个星期 [00,53]，星期天是每周第一天，第一个星期天前一周为第0个星期\n",
    "\n",
    "%W 一年中第几个星期 [00,53]，星期一是每周第一天，第一个星期一前一周为第0个星期\n",
    "\n",
    "%z UTC时区骗纸，格式为 +HHMM 或 -HHMM，简单时区则为空？？\n",
    "\n",
    "%F %Y-%y-%d的简写，如2014-4-18\n",
    "\n",
    "%d %m/%d/%y的简写，如04/18/12"
   ]
  }
 ],
 "metadata": {
  "kernelspec": {
   "display_name": "Python 3",
   "language": "python",
   "name": "python3"
  },
  "language_info": {
   "codemirror_mode": {
    "name": "ipython",
    "version": 3
   },
   "file_extension": ".py",
   "mimetype": "text/x-python",
   "name": "python",
   "nbconvert_exporter": "python",
   "pygments_lexer": "ipython3",
   "version": "3.6.5"
  }
 },
 "nbformat": 4,
 "nbformat_minor": 2
}
